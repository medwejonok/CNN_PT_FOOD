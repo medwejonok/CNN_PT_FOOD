{
 "cells": [
  {
   "cell_type": "code",
   "execution_count": 20,
   "metadata": {},
   "outputs": [],
   "source": [
    "import pandas as pd\n",
    "import numpy as np\n",
    "import json\n",
    "import os\n",
    "import torch\n",
    "\n",
    "import os\n",
    "import torch\n",
    "from torch.utils.data import Dataset, DataLoader\n",
    "from torchvision import transforms\n",
    "from PIL import Image\n",
    "from torch.utils.data import random_split\n",
    "\n",
    "import torch\n",
    "import torch.nn as nn\n",
    "import torch.optim as optim\n",
    "from torch.utils.data import DataLoader"
   ]
  },
  {
   "cell_type": "markdown",
   "metadata": {},
   "source": [
    "# DATASET"
   ]
  },
  {
   "cell_type": "code",
   "execution_count": 21,
   "metadata": {},
   "outputs": [],
   "source": [
    "train_image_folder = './normal/train/all'\n",
    "train_class_file = 'train_name2class_PH.json'\n",
    "\n",
    "test_image_folder = './normal/test/all'\n",
    "test_class_file = 'test_name2class_PH.json'\n",
    "\n",
    "batch = 32\n",
    "device = 'cuda'"
   ]
  },
  {
   "cell_type": "code",
   "execution_count": 22,
   "metadata": {},
   "outputs": [],
   "source": [
    "class ImageDataset(Dataset):\n",
    "    def __init__(self, image_folder, class_file, transform=None):\n",
    "        self.image_folder = image_folder\n",
    "        self.class_file = class_file\n",
    "        self.transform = transform\n",
    "\n",
    "\n",
    "        self.image_files = []\n",
    "        self.classes = []\n",
    "        \n",
    "        import json\n",
    "\n",
    "        with open(class_file, 'r') as f:\n",
    "            name2class = json.load(f)\n",
    "\n",
    "        for f in os.listdir(self.image_folder):\n",
    "            self.image_files.append(os.path.join(self.image_folder, f))\n",
    "            \n",
    "            \n",
    "            if '_' in f:\n",
    "                self.classes.append(name2class[str(f.split('_')[0])])\n",
    "            else:\n",
    "            \n",
    "\n",
    "                self.classes.append(name2class[str(f.split('.')[0])])\n",
    "\n",
    "    def __len__(self):\n",
    "        return len(self.image_files)\n",
    "\n",
    "    def __getitem__(self, idx):\n",
    "        image_file = self.image_files[idx]\n",
    "        image = Image.open(image_file)\n",
    "        label = self.classes[idx]\n",
    "\n",
    "        if self.transform:\n",
    "            image = self.transform(image)\n",
    "\n",
    "        return image, label"
   ]
  },
  {
   "cell_type": "code",
   "execution_count": 23,
   "metadata": {},
   "outputs": [],
   "source": [
    "transform = transforms.Compose([\n",
    "    transforms.Resize((256, 256)),\n",
    "    transforms.ToTensor(),\n",
    "    transforms.Lambda(lambda x: x.repeat(3, 1, 1) if x.size(0) == 1 else x)\n",
    "])\n",
    "\n",
    "train_dataset = ImageDataset(train_image_folder, train_class_file, transform=transform)\n",
    "\n",
    "val_size = int(0.1 * len(train_dataset))  \n",
    "train_size = len(train_dataset) - val_size\n",
    "\n",
    "train_dataset, val_dataset = random_split(train_dataset, [train_size, val_size])\n",
    "\n",
    "train_loader = DataLoader(train_dataset, batch_size=batch, shuffle=True)\n",
    "val_loader = DataLoader(val_dataset, batch_size=batch, shuffle=True)\n",
    "\n",
    "test_dataset = ImageDataset(test_image_folder, test_class_file, transform=transform)\n",
    "test_loader = DataLoader(test_dataset, batch_size=batch, shuffle=True)\n"
   ]
  },
  {
   "cell_type": "code",
   "execution_count": 24,
   "metadata": {},
   "outputs": [
    {
     "data": {
      "text/plain": [
       "(43, 5, 16)"
      ]
     },
     "execution_count": 24,
     "metadata": {},
     "output_type": "execute_result"
    }
   ],
   "source": [
    "len(train_loader), len(val_loader), len(test_loader)"
   ]
  },
  {
   "cell_type": "markdown",
   "metadata": {},
   "source": [
    "# TRAIN MODEL"
   ]
  },
  {
   "cell_type": "code",
   "execution_count": null,
   "metadata": {},
   "outputs": [],
   "source": [
    "import torch\n",
    "import torch.nn as nn\n",
    "import torch.optim as optim\n",
    "from torch.utils.data import DataLoader\n",
    "\n",
    "train_loss_history = []\n",
    "train_acc_history = []\n",
    "val_loss_history = []\n",
    "val_acc_history = []\n",
    "\n",
    "class CNN_PH(nn.Module):\n",
    "    def __init__(self):\n",
    "        super(CNN_PH, self).__init__()\n",
    "        self.conv1 = nn.Conv2d(in_channels=3, out_channels=10, kernel_size=3)\n",
    "        self.pool = nn.MaxPool2d(kernel_size=2)\n",
    "        self.conv2 = nn.Conv2d(in_channels=10, out_channels=10, kernel_size=3)\n",
    "        self.conv3 = nn.Conv2d(in_channels=10, out_channels=10, kernel_size=3)\n",
    "        self.flatten = nn.Flatten()\n",
    "        self.fc1 = nn.Linear(10 * 30 * 30, 1)\n",
    "        self.sigmoid = nn.Sigmoid()\n",
    "\n",
    "    def forward(self, x):\n",
    "        x = torch.relu(self.conv1(x))\n",
    "        x = self.pool(x)\n",
    "        x = torch.relu(self.conv2(x))\n",
    "        x = self.pool(x)\n",
    "        x = torch.relu(self.conv3(x))\n",
    "        x = self.pool(x)\n",
    "        x = self.flatten(x)\n",
    "        x = self.fc1(x)\n",
    "        x = self.sigmoid(x)\n",
    "        return x\n",
    "\n",
    "\n",
    "\n",
    "device = torch.device(\"cuda\" if torch.cuda.is_available() else \"cpu\")\n",
    "model = CNN_PH().to(device)\n",
    "\n",
    "criterion = nn.BCELoss()\n",
    "optimizer = optim.Adam(model.parameters(), lr=0.001)\n",
    "\n",
    "num_epochs = 100\n",
    "for epoch in range(num_epochs):\n",
    "    model.train()\n",
    "    running_loss = 0.0\n",
    "    for inputs, labels in train_loader:\n",
    "        inputs, labels = inputs.to(device), labels.to(device) \n",
    "        optimizer.zero_grad()\n",
    "        outputs = model(inputs)  \n",
    "        labels = labels.float().view(-1, 1)\n",
    "        loss = criterion(outputs, labels) \n",
    "        loss.backward()\n",
    "        optimizer.step()\n",
    "        running_loss += loss.item()\n",
    "    # Проверка\n",
    "    model.eval()\n",
    "    val_loss = 0.0\n",
    "    correct = 0\n",
    "    total = 0\n",
    "    with torch.no_grad():\n",
    "        for inputs, labels in val_loader:\n",
    "            inputs, labels = inputs.to(device), labels.to(device)\n",
    "            outputs = model(inputs)  \n",
    "            labels = labels.float().view(-1, 1)  \n",
    "            loss = criterion(outputs, labels) \n",
    "            val_loss += loss.item()\n",
    "            predicted = (outputs > 0.5).float()\n",
    "            correct += (predicted == labels).sum().item()\n",
    "            total += labels.size(0)\n",
    "\n",
    "    train_loss_history.append(running_loss)\n",
    "    val_loss_history.append(val_loss)\n",
    "    val_acc_history.append(correct/total)\n",
    "    print(f\"Epoch {epoch+1}, Loss: {running_loss}, Val_loss: {val_loss}, accuracy: {correct/total}\")"
   ]
  },
  {
   "cell_type": "code",
   "execution_count": 7,
   "metadata": {},
   "outputs": [
    {
     "name": "stdout",
     "output_type": "stream",
     "text": [
      "Модель сохранена в aug_100.pth\n"
     ]
    }
   ],
   "source": [
    "model_save_path = 'aug_100.pth'\n",
    "torch.save(model.state_dict(), model_save_path)\n",
    "print(f\"Модель сохранена в {model_save_path}\")"
   ]
  },
  {
   "cell_type": "code",
   "execution_count": 19,
   "metadata": {},
   "outputs": [
    {
     "name": "stdout",
     "output_type": "stream",
     "text": [
      "F1 Score: 0.7670103092783506\n",
      "Recall: 0.744\n",
      "Precision: 0.7914893617021277\n",
      "Accuracy: 0.774\n"
     ]
    }
   ],
   "source": [
    "import torch\n",
    "from sklearn.metrics import f1_score, recall_score, precision_score, accuracy_score\n",
    "\n",
    "model = CNN_PH()  \n",
    "\n",
    "model.load_state_dict(torch.load('aug_100.pth',  ))\n",
    "model.to(device)\n",
    "\n",
    "model.eval()\n",
    "\n",
    "true_labels = []\n",
    "pred_labels = []\n",
    "\n",
    "with torch.no_grad():\n",
    "    for inputs, labels in test_loader:  \n",
    "        inputs, labels = inputs.to(device), labels.to(device)  \n",
    "        outputs = model(inputs) \n",
    "        predicted = (outputs > 0.5).float()  \n",
    "\n",
    "        true_labels.extend(labels.cpu().numpy())  \n",
    "        pred_labels.extend(predicted.cpu().numpy()) \n",
    "\n",
    "true_labels = np.array(true_labels)\n",
    "pred_labels = np.array(pred_labels)\n",
    "\n",
    "f1 = f1_score(true_labels, pred_labels)\n",
    "recall = recall_score(true_labels, pred_labels)\n",
    "precision = precision_score(true_labels, pred_labels)\n",
    "accuracy = accuracy_score(true_labels, pred_labels)\n",
    "\n",
    "print(f\"F1 Score: {f1}\")\n",
    "print(f\"Recall: {recall}\")\n",
    "print(f\"Precision: {precision}\")\n",
    "print(f\"Accuracy: {accuracy}\")\n"
   ]
  }
 ],
 "metadata": {
  "kernelspec": {
   "display_name": "ml",
   "language": "python",
   "name": "python3"
  },
  "language_info": {
   "codemirror_mode": {
    "name": "ipython",
    "version": 3
   },
   "file_extension": ".py",
   "mimetype": "text/x-python",
   "name": "python",
   "nbconvert_exporter": "python",
   "pygments_lexer": "ipython3",
   "version": "3.8.18"
  }
 },
 "nbformat": 4,
 "nbformat_minor": 2
}
